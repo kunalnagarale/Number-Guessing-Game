{
  "nbformat": 4,
  "nbformat_minor": 0,
  "metadata": {
    "colab": {
      "provenance": []
    },
    "kernelspec": {
      "name": "python3",
      "display_name": "Python 3"
    },
    "language_info": {
      "name": "python"
    }
  },
  "cells": [
    {
      "cell_type": "code",
      "execution_count": 4,
      "metadata": {
        "id": "xuNjbwtdF3tj",
        "colab": {
          "base_uri": "https://localhost:8080/"
        },
        "outputId": "2634dc5f-7127-4c8b-f1bb-634c05777b75"
      },
      "outputs": [
        {
          "output_type": "stream",
          "name": "stdout",
          "text": [
            "Guess a number between 1 and 100: 5\n",
            "Too low!\n",
            "Guess a number between 1 and 100: 10\n",
            "Too low!\n",
            "Guess a number between 1 and 100: 55\n",
            "Too low!\n",
            "Guess a number between 1 and 100: 100\n",
            "Too high!\n",
            "Guess a number between 1 and 100: 80\n",
            "Too high!\n",
            "Guess a number between 1 and 100: 75\n",
            "Too high!\n",
            "Guess a number between 1 and 100: 70\n",
            "Too high!\n",
            "Guess a number between 1 and 100: 61\n",
            "Too low!\n",
            "Guess a number between 1 and 100: 65\n",
            "Too high!\n",
            "Guess a number between 1 and 100: 64\n",
            "Too high!\n",
            "Guess a number between 1 and 100: 63\n",
            "Too high!\n",
            "Guess a number between 1 and 100: 62\n",
            "Comnngratulation! You guesses the number.\n"
          ]
        }
      ],
      "source": [
        "import random\n",
        "\n",
        "number_to_guess = random.randint(1, 100)\n",
        "\n",
        "while True:\n",
        " try:\n",
        "   guess = int(input(\"Guess a number between 1 and 100: \"))\n",
        "\n",
        "   if guess < number_to_guess:\n",
        "    print(\"Too low!\")\n",
        "   elif guess > number_to_guess:\n",
        "    print(\"Too high!\")\n",
        "   else:\n",
        "    print(\"Comnngratulation! You guesses the number.\")\n",
        "    break\n",
        " except ValueError:\n",
        "  print('Please enter a valid number')"
      ]
    },
    {
      "cell_type": "markdown",
      "source": [],
      "metadata": {
        "id": "jX_9_2rRGaD6"
      }
    },
    {
      "cell_type": "code",
      "source": [],
      "metadata": {
        "id": "lf6HJ3X4GU5b"
      },
      "execution_count": null,
      "outputs": []
    }
  ]
}